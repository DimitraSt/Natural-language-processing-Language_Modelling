{
 "cells": [
  {
   "cell_type": "markdown",
   "metadata": {},
   "source": [
    "# TASK 2: Identifying the given language Model characteristics"
   ]
  },
  {
   "cell_type": "code",
   "execution_count": 2,
   "metadata": {},
   "outputs": [],
   "source": [
    "import numpy as np\n",
    "import pandas as pd\n",
    "import matplotlib.pyplot as plt\n",
    "import seaborn as sns\n",
    "%matplotlib inline"
   ]
  },
  {
   "cell_type": "markdown",
   "metadata": {},
   "source": [
    "### Read the language model"
   ]
  },
  {
   "cell_type": "code",
   "execution_count": 3,
   "metadata": {},
   "outputs": [],
   "source": [
    "LM = {}\n",
    "with open('../model/model-my.en') as f:\n",
    "    for line in f:\n",
    "        elem = line.split('\\t')\n",
    "        # Removing newline left in parsing\n",
    "        LM[elem[0]] = elem[1][:-1] "
   ]
  },
  {
   "cell_type": "code",
   "execution_count": 24,
   "metadata": {},
   "outputs": [],
   "source": [
    "# Historgram code from LAB3\n",
    "def plot_histogram(values, counts):\n",
    "    plt.figure(figsize=(15,5))\n",
    "    \n",
    "    plt.grid(True)\n",
    "    plt.bar(values, counts, color='purple', hatch='/')\n",
    "    plt.yticks(np.arange(0, 0.26,0.03))\n",
    "#     plt.grid(color='r', linestyle='-', linewidth=2, which='mayor')\n",
    "    plt.show()\n",
    "    \n",
    "    \n",
    "# Obtain disitrition function\n",
    "def get_distribution(model, seq):\n",
    "    distribution = {}\n",
    "    for ngram in model.keys():\n",
    "        if ngram[:2] == seq:\n",
    "            distribution[ngram[2:]] = model[ngram]\n",
    "    return distribution"
   ]
  },
  {
   "cell_type": "code",
   "execution_count": 5,
   "metadata": {},
   "outputs": [],
   "source": [
    "# test = get_distribution(model=LM, seq='th')\n",
    "# test_1 = get_distribution(model=LM, seq='an')\n",
    "# test_2 = get_distribution(model=LM, seq='sh')\n",
    "test_3 = get_distribution(model=LM, seq='ca')"
   ]
  },
  {
   "cell_type": "code",
   "execution_count": 25,
   "metadata": {
    "scrolled": false
   },
   "outputs": [
    {
     "data": {
      "image/png": "[encoded data removed]",
      "text/plain": [
       "<Figure size 1080x360 with 1 Axes>"
      ]
     },
     "metadata": {},
     "output_type": "display_data"
    }
   ],
   "source": [
    "# plt.title(r'Histogram of Test')\n",
    "# values = []\n",
    "# counts = []\n",
    "# for k,v in sorted(test.items()):\n",
    "#     values.append(k)\n",
    "#     counts.append(float(v))\n",
    "    \n",
    "# plot_histogram(values=values, counts=counts)\n",
    "\n",
    "# plt.title(r'Histogram of Test_1')\n",
    "# values = []\n",
    "# counts = []\n",
    "# for k,v in sorted(test_1.items()):\n",
    "#     values.append(k)\n",
    "#     counts.append(float(v))\n",
    "    \n",
    "# plot_histogram(values=values, counts=counts)\n",
    "\n",
    "# plt.title(r'Histogram of Test_2')\n",
    "# values = []\n",
    "# counts = []\n",
    "# for k,v in sorted(test_2.items()):\n",
    "#     values.append(k)\n",
    "#     counts.append(float(v))\n",
    "    \n",
    "# plot_histogram(values=values, counts=counts)\n",
    "\n",
    "# plt.title('Probability distribution ')\n",
    "values = []\n",
    "counts = []\n",
    "for k,v in sorted(test_3.items()):\n",
    "    values.append(k)\n",
    "    counts.append(float(v))\n",
    "    \n",
    "plot_histogram(values=values, counts=counts)\n",
    "\n"
   ]
  },
  {
   "cell_type": "markdown",
   "metadata": {},
   "source": [
    "Identifying Data\n",
    "After choosing to train the english language model, we proceed in identifying the word sequences that occur after randomly\n",
    "selecting two-character sequences. \n",
    "The histograms present the different probable third character sequences that can happen after the two selected ones \n",
    "as well as the word sequences they are connected to  in the english document and its context.\n",
    "According to the Histogram of Testing the sequence 'th', the most probable,with great difference, third character sequence\n",
    "is the letter 'e' which produces the word 'the'. The characters 'a' and 'i' follow giving words like 'that' and 'this'.\n",
    "The Histogram of Testing the sequence 'an' shows that the most probable word sequence that can be created is the word 'and'.\n",
    "Less probable is the word 'an' itself. #add counts?\n",
    "The Histogram of Test_2 shows the distribution of the sequence 'sh'. According to this, the most probable third character\n",
    "sequence is character 'o' which generates words such as 'should' and then, less probable word sequences are 'shall' and \n",
    "various nouns and verb tenses with the infixes 'i' and 'e', respectively.\n",
    "The last random distribution is displayed by the histogram of Test_3 which takes the 'ca' two-character sequence. The\n",
    "particular sequence could be considered the most interesting regarding the preivious two as it inludes many instances with \n",
    "high probabilities. The most probable continuing sequence is character 'l' which generates various words inlcuding the \n",
    "sequence 'cal', eg: 'spesifically', 'tropical' or 'call'.\n",
    "Third characters like 'n', 't' and 'u' present high results, too with word sequences such as 'can', 'application' and 'because'.\n",
    "\n"
   ]
  },
  {
   "cell_type": "code",
   "execution_count": null,
   "metadata": {},
   "outputs": [],
   "source": []
  }
 ],
 "metadata": {
  "kernelspec": {
   "display_name": "Python 3",
   "language": "python",
   "name": "python3"
  },
  "language_info": {
   "codemirror_mode": {
    "name": "ipython",
    "version": 3
   },
   "file_extension": ".py",
   "mimetype": "text/x-python",
   "name": "python",
   "nbconvert_exporter": "python",
   "pygments_lexer": "ipython3",
   "version": "3.4.9"
  }
 },
 "nbformat": 4,
 "nbformat_minor": 2
}
