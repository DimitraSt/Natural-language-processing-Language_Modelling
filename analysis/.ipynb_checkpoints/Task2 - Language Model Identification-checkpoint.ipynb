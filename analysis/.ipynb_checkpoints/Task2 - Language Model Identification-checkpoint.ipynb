{
 "cells": [
  {
   "cell_type": "markdown",
   "metadata": {},
   "source": [
    "# TASK 2: Identifying the given language Model characteristics"
   ]
  },
  {
   "cell_type": "code",
   "execution_count": 1,
   "metadata": {},
   "outputs": [],
   "source": [
    "import numpy as np\n",
    "import pandas as pd\n",
    "import matplotlib.pyplot as plt\n",
    "import seaborn as sns\n",
    "%matplotlib inline"
   ]
  },
  {
   "cell_type": "markdown",
   "metadata": {},
   "source": [
    "### Read the language model"
   ]
  },
  {
   "cell_type": "code",
   "execution_count": 2,
   "metadata": {},
   "outputs": [],
   "source": [
    "LM = {}\n",
    "with open('../model/model-br.en') as f:\n",
    "    for line in f:\n",
    "        elem = line.split('\\t')\n",
    "        # Removing newline left in parsing\n",
    "        LM[elem[0]] = elem[1][:-1] "
   ]
  },
  {
   "cell_type": "code",
   "execution_count": 3,
   "metadata": {},
   "outputs": [],
   "source": [
    "# Historgram code from LAB3\n",
    "def plot_histogram(values, counts):\n",
    "    plt.bar(values, counts)\n",
    "    plt.show()\n",
    "    \n",
    "    \n",
    "# Obtain disitrition function\n",
    "def get_distribution(model, seq):\n",
    "    distribution = {}\n",
    "    for ngram in model.keys():\n",
    "        if ngram[:2] == seq:\n",
    "            distribution[ngram[2:]] = model[ngram]\n",
    "    return distribution"
   ]
  },
  {
   "cell_type": "code",
   "execution_count": 14,
   "metadata": {},
   "outputs": [],
   "source": [
    "test = get_distribution(model=LM, seq='an')"
   ]
  },
  {
   "cell_type": "code",
   "execution_count": 15,
   "metadata": {},
   "outputs": [
    {
     "data": {
      "image/png": "[encoded data removed]",
      "text/plain": [
       "<Figure size 432x288 with 1 Axes>"
      ]
     },
     "metadata": {},
     "output_type": "display_data"
    }
   ],
   "source": [
    "values = []\n",
    "counts = []\n",
    "for k,v in sorted(test.items()):\n",
    "    values.append(k)\n",
    "    counts.append(float(v))\n",
    "    \n",
    "plot_histogram(values=values, counts=counts)"
   ]
  },
  {
   "cell_type": "code",
   "execution_count": null,
   "metadata": {},
   "outputs": [],
   "source": []
  }
 ],
 "metadata": {
  "kernelspec": {
   "display_name": "Python 3",
   "language": "python",
   "name": "python3"
  },
  "language_info": {
   "codemirror_mode": {
    "name": "ipython",
    "version": 3
   },
   "file_extension": ".py",
   "mimetype": "text/x-python",
   "name": "python",
   "nbconvert_exporter": "python",
   "pygments_lexer": "ipython3",
   "version": "3.4.9"
  }
 },
 "nbformat": 4,
 "nbformat_minor": 2
}
