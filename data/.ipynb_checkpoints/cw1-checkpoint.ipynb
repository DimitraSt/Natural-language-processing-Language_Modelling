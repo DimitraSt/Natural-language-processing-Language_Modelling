{
 "cells": [
  {
   "cell_type": "code",
   "execution_count": 10,
   "metadata": {},
   "outputs": [],
   "source": [
    "def preprocess_line(line):\n",
    "    newline = [\"\"]\n",
    "    upper = [chr(i) for i in range(65, 91)]\n",
    "    lower = [chr(i) for i in range(97, 123)]\n",
    "    special = [' ', '.']\n",
    "    digits = [chr(i)for i in range(48, 58)]\n",
    "    for character in line:\n",
    "        if character in upper:\n",
    "            newline.append(character.lower())\n",
    "        if character in lower:\n",
    "            newline.append(character)\n",
    "        if character in special:\n",
    "            newline.append(character)\n",
    "        if character in digits:\n",
    "            newline.append('0')\n",
    "    return \"\".join(newline)\n"
   ]
  }
 ],
 "metadata": {
  "kernelspec": {
   "display_name": "Python 3",
   "language": "python",
   "name": "python3"
  },
  "language_info": {
   "codemirror_mode": {
    "name": "ipython",
    "version": 3
   },
   "file_extension": ".py",
   "mimetype": "text/x-python",
   "name": "python",
   "nbconvert_exporter": "python",
   "pygments_lexer": "ipython3",
   "version": "3.4.9"
  }
 },
 "nbformat": 4,
 "nbformat_minor": 2
}
